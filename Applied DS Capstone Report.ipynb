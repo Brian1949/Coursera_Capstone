{
 "cells": [
  {
   "cell_type": "markdown",
   "metadata": {},
   "source": [
    "## Introduction"
   ]
  },
  {
   "cell_type": "markdown",
   "metadata": {},
   "source": [
    "For this capstone I would like to consider the case of a security systems company looking to market products or services in Raleigh, North Carolina. In order to craft appealing sales propositions, such a company would benefit from first knowing which areas of the city tend to have higher crime rates, and then what kinds of venues besides home residences are in the vicinity of higher crime areas. The company would then be in a better position to determine what products or services to offer, and locations where such offerings would likely be in higher demand."
   ]
  },
  {
   "cell_type": "markdown",
   "metadata": {},
   "source": [
    "## Data"
   ]
  },
  {
   "cell_type": "markdown",
   "metadata": {},
   "source": [
    "This analysis will require two data sources: 1) data on crime in Raleigh, NC and 2) data on venues in the vicinity of clusters of crime.\n",
    "\n",
    "Crime data is available via Raleigh's open data website. The specific data resource I will use is the Raleigh Police Incidents (NIBRS), accessed January 20, 2019. This set contains 234,352 police incidents from June 1, 2014 through January 20, 2019. Raleigh implemented the FBI's National Incident Based Reporting System (NIBRS) in June 2014. NIBRS now collects each offense, victim, offender, property, and arrestee information on 52 unique offenses and up to 10 offenses per incident.\n",
    "\n",
    "The Raleigh data shows police incidences were reported in 33 categories. In addressing the proposed business problem, my analysis will include the police incidents for the categories below, for which have corresponding latitude and longitude values reported.\n",
    "\n",
    "ARSON, ASSAULT, BURGLARY/COMMERCIAL, BURGLARY/RESIDENTIAL, DISORDERLY CONDUCT, EXTORTION, HUMANE, KIDNAPPNIG, LARCENY, LARCENY FROM MV, MURDER, MV THEFT, ROBBERY, STOLEN PROPERTY, VANDALISM\n",
    "\n",
    "For venue information I will utilize Foursquare to obtain data. This will include the top venue types near each cluster of crime incidences, along with address. By viewing these results the security company will be able to better decide what types of services and products to offer, and if there are opportunities to customize advertising."
   ]
  },
  {
   "cell_type": "markdown",
   "metadata": {},
   "source": [
    "## Methodology"
   ]
  },
  {
   "cell_type": "markdown",
   "metadata": {},
   "source": [
    "For this analysis I first examined the Raleigh crime dataset. To enable this I first imported the data from .csv format into a pandas dataframe, then looked at the various descriptions and categories of crimes. I also noted where data was missing; for example many crimes lacked latitude and longitude fields. Reading more detailed descriptions in the Crime Description field showed that these incidences were related to private crimes. I decided the best way to handle missing latitude and longitude records was to simply drop them. Dropping incidences with missing location data is reasonable given the goal (targeted products and advertising), and the data - where many of these incidences are not crimes suitable for security monitoring (for example child abuse).\n",
    "\n",
    "I further restricted the dataset to recent (2018 through Jan 2019) incidences. As the purpose is to offer products and services to meet current needs, it made sense to look for locations currently experiencing higher crime rates. Additionally I narrowed the crime incident categories to those types that could be addresses through security offerings - such as cameras, alarms and monitoring.\n",
    "\n",
    "With a cleaned and narrowed dataset, I then used K-means clustering to identify centerpoints from which to examine venues that might be receptive to security services. In order to set the number of clusters I first graphed the data to visually look for groupings. This gave a general sense, but I felt there was enough dispersion and too many records to tell clearly. To address this I used a method of plotting the sum of squared errors for K-means of different cluster amounts, which lead me to use 7 clusters.\n",
    "\n",
    "Once K-means was completed I plotted the cluster centerpoints on a map of Raleigh using Folium.\n",
    "\n",
    "I created a pandas dataframe of the cluster numbers (assigned randomly, but provided a way to distinguish between the clusters) along with the centerpoint latitude and longitude. \n",
    "\n",
    "I then used these centerpoint locations to query Foursquare for venues near the centerpoints. To roughly ensure no overlap, I calculated the distance between the closest centerpoints and divided this by 2, to arrive at a 3km radius to search around each centerpoint. \n",
    "\n",
    "Foursquare provided a maximum retrieval of only 100 venues per location. This Foursquare data was joined with the clustering data, and then I used one hot encoding to calculate the prevalence of the different venue categories.\n",
    "\n",
    "Finally, I printed the top 15 venues for each of the cluster centers, revealing variation in the types and prevalence of venues betweent the different cluster centerpoints."
   ]
  },
  {
   "cell_type": "markdown",
   "metadata": {},
   "source": [
    "## Results"
   ]
  },
  {
   "cell_type": "markdown",
   "metadata": {},
   "source": [
    "Below are the cluster centerpoints, resulting from data cleaning and K-means clustering."
   ]
  },
  {
   "cell_type": "markdown",
   "metadata": {},
   "source": [
    "|Center|Latitude |Longitude  |\n",
    "|------|---------|-----------|\n",
    "| \t1  |35.905959| -78.773531|\n",
    "| \t2  |35.772783| -78.633460|\n",
    "| \t3  |35.778289| -78.700878|\n",
    "| \t4  |35.885363| -78.563086|\n",
    "| \t5  |35.865355| -78.679332|\n",
    "| \t6  |35.839985| -78.600899|\n",
    "| \t7  |35.773942| -78.568575|"
   ]
  },
  {
   "cell_type": "markdown",
   "metadata": {},
   "source": [
    "The corresponding top venues and prevalence are:"
   ]
  },
  {
   "cell_type": "markdown",
   "metadata": {},
   "source": [
    "|Rank| Center 1      Type | Freq| Center 2      Type |Freq|Center 3      Type  |Freq|Center 4      Type |Freq|\n",
    "|---|---------------------|-----|--------------------|----|--------------------|----|--------------------|----|\n",
    "|1 |                  Spa | 0.05|Italian Restaurant  |0.05|Fast Food Restaurant|0.08|Department Store  |0.06|\n",
    "|2 |          Pizza Place | 0.04|     Cocktail Bar   |0.05|Pizza Place  |0.04|Clothing Store  |0.05|\n",
    "|3 |                Hotel | 0.03|Asian Restaurant    |0.04|Sandwich Place  |0.03|Furniture / Home Store  |0.05|\n",
    "|4 |       Sandwich Place | 0.03|Coffee Shop         |0.04|Coffee Shop  |0.03|Women's Store  |0.04|\n",
    "|5 |   Mexican Restaurant | 0.03|American Restaurant |0.04|Indian Restaurant  |0.02|Mexican Restaurant  |0.04|\n",
    "|6 |          Coffee Shop | 0.03|Brewery             |0.04|Hotel  |0.02|Coffee Shop  |0.04|\n",
    "|7 |    Mobile Phone Shop | 0.02|Music Venue         |0.04|Chinese Restaurant  |0.02|Fast Food Restaurant  |0.03|\n",
    "|8 |       Clothing Store | 0.02|Bar                 |0.03|Discount Store  |0.02|Shoe Store  |0.03|\n",
    "|9 |         Cocktail Bar | 0.02|Mexican Restaurant  |0.03|Rental Car Location  |0.02|Kids Store  |0.03|\n",
    "|10 |    Electronics Store | 0.02|Performing Arts Venue |0.02|Grocery Store  |0.02|Hotel  |0.02|\n",
    "|11|  Japanese Restaurant | 0.02|    Plaza           |0.02|Pool Hall  |0.02|Discount Store  |0.02|\n",
    "|12|              Brewery | 0.02|Gastropub           |0.02|Gym / Fitness Center  |0.02|Cosmetics Shop  |0.02|\n",
    "|13|       Breakfast Spot | 0.02|Diner               |0.02|Used Bookstore  |0.02|Pharmacy  |0.02|\n",
    "|14|            Pet Store | 0.02|Southern / Soul Food Restaurant|0.02|Hot Dog Joint  |0.02|Gym  |0.02|\n",
    "|15|    Indian Restaurant | 0.02|Ice Cream Shop      |0.02| College Cafeteria  |0.02|Trail  |0.02|"
   ]
  },
  {
   "cell_type": "markdown",
   "metadata": {},
   "source": [
    "|Rank| Center 5      Type |Freq| Center 6      Type |Freq|Center 7      Type  |Freq|\n",
    "|---|---------------------|----|--------------------|----|--------------------|----|\n",
    "|1 |      Coffee Shop     |0.06|Fast Food Restaurant |0.06|Fast Food Restaurant|0.11|\n",
    "|2 |      Clothing Store  |0.05|Burger Joint |0.04|Pharmacy  |0.06|\n",
    "|3 |      Sandwich Place  |0.04|Grocery Store |0.04|Video Store | 0.05|\n",
    "|4 |   American Restaurant|0.04|Sandwich Place |0.04|Trail  |0.05|\n",
    "|5 |   Mexican Restaurant |0.04|Restaurant  |0.04|Sandwich Place | 0.05|\n",
    "|6 |   Pizza Place        |0.04|Hotel  |0.04|Pizza Place  |0.05|\n",
    "|7 |   Department Store   |0.04|Caribbean Restaurant |0.03|Convenience Store  |0.05|\n",
    "|8 |   Japanese Restaurant|0.03|Italian Restaurant  |0.03|Gas Station  |0.05|\n",
    "|9 |   Toy / Game Store   |0.03|American Restaurant |0.03|Supermarket  |0.03 |\n",
    "|10|   Trail              |0.03|Mexican Restaurant  |0.03|Park  |0.03|\n",
    "|11|  Cosmetics Shop      |0.03|Discount Store  |0.02|Intersection |0.03|\n",
    "|12|   Steakhouse         |0.03|Korean Restaurant  |0.02|Music Venue |0.03|\n",
    "|13|    Italian Restaurant|0.02|Japanese Restaurant |0.02|Coffee Shop |0.02|\n",
    "|14|    Chinese Restaurant|0.02|Sports Bar  |0.02|Sports Bar  |0.02|\n",
    "|15|    Ice Cream Shop    |0.02|Juice Bar  |0.02| Government Building  |0.02|"
   ]
  },
  {
   "cell_type": "markdown",
   "metadata": {},
   "source": [
    "## Discussion"
   ]
  },
  {
   "cell_type": "markdown",
   "metadata": {},
   "source": [
    "From the results it appears that food establishments have strong representation in the areas where crime incidences are clustered. Fast food restaurants, including coffee, burger and sandwich shops show up in the top for each cluster, while in cluster 4 there are more retail / clothing stores and cluster 5 has many larger restaurants.\n",
    "\n",
    "Based on these findings it may make sense to market security products and services for food establishments in these areas."
   ]
  },
  {
   "cell_type": "markdown",
   "metadata": {},
   "source": [
    "## Conclusion"
   ]
  },
  {
   "cell_type": "markdown",
   "metadata": {},
   "source": [
    "In summary, this analysis provided a view of the locations and top venues around main clusters of crime incidents in Raleigh, North Carolina. The analysis may be further refined by using a commercial Foursquare account in order to ensure all venues have been captured around each cluster center.\n",
    "\n",
    "Additional Foursquare data may provide further insights; for example, text-mining comments for the various venues may show relevant feelings regarding safety, lighting and atmosphere. "
   ]
  },
  {
   "cell_type": "code",
   "execution_count": null,
   "metadata": {},
   "outputs": [],
   "source": []
  }
 ],
 "metadata": {
  "kernelspec": {
   "display_name": "Python 3",
   "language": "python",
   "name": "python3"
  },
  "language_info": {
   "codemirror_mode": {
    "name": "ipython",
    "version": 3
   },
   "file_extension": ".py",
   "mimetype": "text/x-python",
   "name": "python",
   "nbconvert_exporter": "python",
   "pygments_lexer": "ipython3",
   "version": "3.6.7"
  }
 },
 "nbformat": 4,
 "nbformat_minor": 2
}
